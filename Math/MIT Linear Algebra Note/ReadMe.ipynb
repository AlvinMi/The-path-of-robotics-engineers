{
 "cells": [
  {
   "cell_type": "markdown",
   "metadata": {},
   "source": [
    "## MIT 线性代数笔记\n",
    "\n",
    "### 简介\n",
    "#### Author:  AlvinMi\n",
    "\n",
    "## 数学学习\n",
    "\n",
    "这条路少不了数学！ Come On!\n",
    "来自 [MIT线性代数公开课学习笔记](http://open.163.com/special/opencourse/daishu.html) , 可在网易公开课进行观看。\n",
    "\n",
    "使用 `jupyter notebook (ipython notebook)` 编写,可在网页中查看。\n",
    "如果 GitHub 加载 `.ipynb` 的速度较慢, 可在 [Nbviewer jupyter](https://nbviewer.jupyter.org/github/AlvinMi/The-path-of-robotics-engineers/blob/master/Math/MIT%20Linear%20Algebra/ReadMe.ipynb) 中查看。\n",
    "\n",
    "## 目录\n",
    "\n",
    "* 第 01 集 [方程组的几何解释]()\n",
    "* 第 02 集 []()\n",
    "* 第 03 集 []()\n",
    "* 第 04 集 []()\n",
    "* 第 05 集 []()\n",
    "* 第 06 集 []()\n",
    "* 第 07 集 []()\n",
    "* 第 08 集 []()\n",
    "* 第 09 集 []()\n",
    "* 第 10 集 []()\n",
    "* 第 11 集 []()\n",
    "* 第 12 集 []()\n",
    "* 第 13 集 []()\n",
    "* 第 14 集 []()\n",
    "* 第 15 集 []()\n",
    "* 第 16 集 []()\n",
    "* 第 17 集 []()\n",
    "* 第 18 集 []()\n",
    "* 第 19 集 []()\n",
    "* 第 20 集 []()\n",
    "* 第 21 集 []()\n",
    "* 第 22 集 []()\n",
    "* 第 23 集 []()\n",
    "* 第 24 集 []()\n",
    "* 第 25 集 []()\n",
    "* 第 26 集 []()\n",
    "* 第 27 集 []()\n",
    "* 第 28 集 []()\n",
    "* 第 29 集 []()\n",
    "* 第 30 集 []()\n",
    "* 第 31 集 []()\n",
    "* 第 32 集 []()\n",
    "* 第 33 集 []()\n",
    "* 第 34 集 []()\n",
    "* 第 35 集 []()\n"
   ]
  },
  {
   "cell_type": "code",
   "execution_count": null,
   "metadata": {
    "collapsed": true
   },
   "outputs": [],
   "source": []
  }
 ],
 "metadata": {
  "kernelspec": {
   "display_name": "Python 3",
   "language": "python",
   "name": "python3"
  },
  "language_info": {
   "codemirror_mode": {
    "name": "ipython",
    "version": 3
   },
   "file_extension": ".py",
   "mimetype": "text/x-python",
   "name": "python",
   "nbconvert_exporter": "python",
   "pygments_lexer": "ipython3",
   "version": "3.6.2"
  }
 },
 "nbformat": 4,
 "nbformat_minor": 2
}
